{
 "cells": [
  {
   "cell_type": "code",
   "execution_count": 102,
   "metadata": {
    "collapsed": true
   },
   "outputs": [],
   "source": [
    "import sys\n",
    "sys.path.insert(0, \"../../python\")\n",
    "import mxnet as mx\n",
    "import numpy as np\n",
    "from collections import namedtuple\n",
    "import time\n",
    "import math\n",
    "LSTMState = namedtuple(\"LSTMState\", [\"c\", \"h\"])\n",
    "LSTMParam = namedtuple(\"LSTMParam\", [\"i2h_weight\", \"i2h_bias\",\n",
    "                                     \"h2h_weight\", \"h2h_bias\"])\n",
    "LSTMModel = namedtuple(\"LSTMModel\", [\"rnn_exec\", \"symbol\",\n",
    "                                     \"init_states\", \"last_states\",\n",
    "                                     \"seq_data\", \"seq_labels\", \"seq_outputs\",\n",
    "                                     \"param_blocks\"])\n",
    "\n",
    "def lstm(num_hidden, indata, prev_state, param, seqidx, layeridx, dropout=0.):\n",
    "    \"\"\"LSTM Cell symbol\"\"\"\n",
    "    if dropout > 0.:\n",
    "        indata = mx.sym.Dropout(data=indata, p=dropout)\n",
    "    i2h = mx.sym.FullyConnected(data=indata,\n",
    "                                weight=param.i2h_weight,\n",
    "                                bias=param.i2h_bias,\n",
    "                                num_hidden=num_hidden * 4,\n",
    "                                name=\"t%d_l%d_i2h\" % (seqidx, layeridx))\n",
    "    h2h = mx.sym.FullyConnected(data=prev_state.h,\n",
    "                                weight=param.h2h_weight,\n",
    "                                bias=param.h2h_bias,\n",
    "                                num_hidden=num_hidden * 4,\n",
    "                                name=\"t%d_l%d_h2h\" % (seqidx, layeridx))\n",
    "    gates = i2h + h2h\n",
    "    slice_gates = mx.sym.SliceChannel(gates, num_outputs=4,\n",
    "                                      name=\"t%d_l%d_slice\" % (seqidx, layeridx))\n",
    "    in_gate = mx.sym.Activation(slice_gates[0], act_type=\"sigmoid\")\n",
    "    in_transform = mx.sym.Activation(slice_gates[1], act_type=\"tanh\")\n",
    "    forget_gate = mx.sym.Activation(slice_gates[2], act_type=\"sigmoid\")\n",
    "    out_gate = mx.sym.Activation(slice_gates[3], act_type=\"sigmoid\")\n",
    "    next_c = (forget_gate * prev_state.c) + (in_gate * in_transform)\n",
    "    next_h = out_gate * mx.sym.Activation(next_c, act_type=\"tanh\")\n",
    "    return LSTMState(c=next_c, h=next_h)\n",
    "\n",
    "\n",
    "# we define a new unrolling function here because the original\n",
    "# one in lstm.py concats all the labels at the last layer together,\n",
    "# making the mini-batch size of the label different from the data.\n",
    "# I think the existing data-parallelization code need some modification\n",
    "# to allow this situation to work properly\n",
    "def lstm_unroll(num_lstm_layer, seq_len, input_size,\n",
    "                num_hidden, num_embed, num_label, dropout=0.):\n",
    "\n",
    "    embed_weight = mx.sym.Variable(\"embed_weight\")\n",
    "    cls_weight = mx.sym.Variable(\"cls_weight\")\n",
    "    cls_bias = mx.sym.Variable(\"cls_bias\")\n",
    "    param_cells = []\n",
    "    last_states = []\n",
    "    for i in range(num_lstm_layer):\n",
    "        param_cells.append(LSTMParam(i2h_weight=mx.sym.Variable(\"l%d_i2h_weight\" % i),\n",
    "                                     i2h_bias=mx.sym.Variable(\"l%d_i2h_bias\" % i),\n",
    "                                     h2h_weight=mx.sym.Variable(\"l%d_h2h_weight\" % i),\n",
    "                                     h2h_bias=mx.sym.Variable(\"l%d_h2h_bias\" % i)))\n",
    "        state = LSTMState(c=mx.sym.Variable(\"l%d_init_c\" % i),\n",
    "                          h=mx.sym.Variable(\"l%d_init_h\" % i))\n",
    "        last_states.append(state)\n",
    "    assert(len(last_states) == num_lstm_layer)\n",
    "\n",
    "    # embeding layer\n",
    "    data = mx.sym.Variable('data')\n",
    "    label = mx.sym.Variable('softmax_label')\n",
    "    embed = mx.sym.Embedding(data=data, input_dim=input_size,\n",
    "                             weight=embed_weight, output_dim=num_embed, name='embed')\n",
    "    wordvec = mx.sym.SliceChannel(data=embed, num_outputs=seq_len, squeeze_axis=1)\n",
    "    #wordvec = mx.sym.SliceChannel(data=data, num_outputs=seq_len, squeeze_axis=1)\n",
    "\n",
    "    hidden_all = []\n",
    "    for seqidx in range(seq_len):\n",
    "        hidden = wordvec[seqidx]\n",
    "\n",
    "        # stack LSTM\n",
    "        for i in range(num_lstm_layer):\n",
    "            if i == 0:\n",
    "                dp_ratio = 0.\n",
    "            else:\n",
    "                dp_ratio = dropout\n",
    "            next_state = lstm(num_hidden, indata=hidden,\n",
    "                              prev_state=last_states[i],\n",
    "                              param=param_cells[i],\n",
    "                              seqidx=seqidx, layeridx=i, dropout=dp_ratio)\n",
    "            hidden = next_state.h\n",
    "            last_states[i] = next_state\n",
    "        # decoder\n",
    "        if dropout > 0.:\n",
    "            hidden = mx.sym.Dropout(data=hidden, p=dropout)\n",
    "        hidden_all.append(hidden)\n",
    "\n",
    "    hidden_concat = mx.sym.Concat(*hidden_all, dim=0)\n",
    "    pred = mx.sym.FullyConnected(data=hidden_concat, num_hidden=num_label,\n",
    "                                 weight=cls_weight, bias=cls_bias, name='pred')\n",
    "\n",
    "    ################################################################################\n",
    "    # Make label the same shape as our produced data path\n",
    "    # I did not observe big speed difference between the following two ways\n",
    "\n",
    "    label = mx.sym.transpose(data=label)\n",
    "    label = mx.sym.Reshape(data=label, target_shape=(0,))\n",
    "\n",
    "    #label_slice = mx.sym.SliceChannel(data=label, num_outputs=seq_len)\n",
    "    #label = [label_slice[t] for t in range(seq_len)]\n",
    "    #label = mx.sym.Concat(*label, dim=0)\n",
    "    #label = mx.sym.Reshape(data=label, target_shape=(0,))\n",
    "    ################################################################################\n",
    "\n",
    "    sm = mx.sym.SoftmaxOutput(data=pred, label=label, name='softmax')\n",
    "\n",
    "    return sm\n",
    "\n",
    "def lstm_inference_symbol(num_lstm_layer, input_size,\n",
    "                          num_hidden, num_embed, num_label, dropout=0.):\n",
    "    seqidx = 0\n",
    "    embed_weight=mx.sym.Variable(\"embed_weight\")\n",
    "    cls_weight = mx.sym.Variable(\"cls_weight\")\n",
    "    cls_bias = mx.sym.Variable(\"cls_bias\")\n",
    "    param_cells = []\n",
    "    last_states = []\n",
    "    for i in range(num_lstm_layer):\n",
    "        param_cells.append(LSTMParam(i2h_weight = mx.sym.Variable(\"l%d_i2h_weight\" % i),\n",
    "                                      i2h_bias = mx.sym.Variable(\"l%d_i2h_bias\" % i),\n",
    "                                      h2h_weight = mx.sym.Variable(\"l%d_h2h_weight\" % i),\n",
    "                                      h2h_bias = mx.sym.Variable(\"l%d_h2h_bias\" % i)))\n",
    "        state = LSTMState(c=mx.sym.Variable(\"l%d_init_c\" % i),\n",
    "                          h=mx.sym.Variable(\"l%d_init_h\" % i))\n",
    "        last_states.append(state)\n",
    "    assert(len(last_states) == num_lstm_layer)\n",
    "    data = mx.sym.Variable(\"data\")\n",
    "\n",
    "    hidden = mx.sym.Embedding(data=data,\n",
    "                              input_dim=input_size,\n",
    "                              output_dim=num_embed,\n",
    "                              weight=embed_weight,\n",
    "                              name=\"embed\")\n",
    "    # stack LSTM\n",
    "    for i in range(num_lstm_layer):\n",
    "        if i==0:\n",
    "            dp=0.\n",
    "        else:\n",
    "            dp = dropout\n",
    "        next_state = lstm(num_hidden, indata=hidden,\n",
    "                          prev_state=last_states[i],\n",
    "                          param=param_cells[i],\n",
    "                          seqidx=seqidx, layeridx=i, dropout=dp)\n",
    "        hidden = next_state.h\n",
    "        last_states[i] = next_state\n",
    "    # decoder\n",
    "    if dropout > 0.:\n",
    "        hidden = mx.sym.Dropout(data=hidden, p=dropout)\n",
    "    fc = mx.sym.FullyConnected(data=hidden, num_hidden=num_label,\n",
    "                               weight=cls_weight, bias=cls_bias, name='pred')\n",
    "    sm = mx.sym.SoftmaxOutput(data=fc, name='softmax')\n",
    "    output = [sm]\n",
    "    for state in last_states:\n",
    "        output.append(state.c)\n",
    "        output.append(state.h)\n",
    "    return mx.sym.Group(output)"
   ]
  },
  {
   "cell_type": "code",
   "execution_count": 103,
   "metadata": {
    "collapsed": false
   },
   "outputs": [],
   "source": [
    "### Build a 2-layer LSTM network for a sequence length of 10\n",
    "num_hidden = 200\n",
    "num_embed = 200\n",
    "num_lstm_layer = 2\n",
    "input_size = 100\n",
    "output_size = 1\n",
    "def sym_gen(seq_len):\n",
    "    return lstm_unroll(num_lstm_layer, seq_len, input_size,\n",
    "                       num_hidden=num_hidden, num_embed=num_embed,\n",
    "                       num_label=output_size)"
   ]
  },
  {
   "cell_type": "code",
   "execution_count": 104,
   "metadata": {
    "collapsed": false
   },
   "outputs": [],
   "source": [
    "seq_len = 10\n",
    "lstm = sym_gen(seq_len).save(\"/tmp/lstm.json\")"
   ]
  },
  {
   "cell_type": "code",
   "execution_count": 105,
   "metadata": {
    "collapsed": true
   },
   "outputs": [],
   "source": [
    "import sys, os\n",
    "import h2o\n",
    "from h2o.estimators.deepwater import H2ODeepWaterEstimator\n",
    "import os.path"
   ]
  },
  {
   "cell_type": "code",
   "execution_count": 106,
   "metadata": {
    "collapsed": false,
    "scrolled": false
   },
   "outputs": [
    {
     "name": "stdout",
     "output_type": "stream",
     "text": [
      "Checking whether there is an H2O instance running at http://localhost:54321. connected.\n"
     ]
    },
    {
     "data": {
      "text/html": [
       "<div style=\"overflow:auto\"><table style=\"width:50%\"><tr><td>H2O cluster uptime:</td>\n",
       "<td>04 secs</td></tr>\n",
       "<tr><td>H2O cluster version:</td>\n",
       "<td>3.11.0.99999</td></tr>\n",
       "<tr><td>H2O cluster version age:</td>\n",
       "<td>1 day </td></tr>\n",
       "<tr><td>H2O cluster name:</td>\n",
       "<td>arno</td></tr>\n",
       "<tr><td>H2O cluster total nodes:</td>\n",
       "<td>1</td></tr>\n",
       "<tr><td>H2O cluster free memory:</td>\n",
       "<td>13.96 Gb</td></tr>\n",
       "<tr><td>H2O cluster total cores:</td>\n",
       "<td>12</td></tr>\n",
       "<tr><td>H2O cluster allowed cores:</td>\n",
       "<td>12</td></tr>\n",
       "<tr><td>H2O cluster status:</td>\n",
       "<td>accepting new members, healthy</td></tr>\n",
       "<tr><td>H2O connection url:</td>\n",
       "<td>http://localhost:54321</td></tr>\n",
       "<tr><td>H2O connection proxy:</td>\n",
       "<td>None</td></tr>\n",
       "<tr><td>Python version:</td>\n",
       "<td>2.7.12 final</td></tr></table></div>"
      ],
      "text/plain": [
       "--------------------------  ------------------------------\n",
       "H2O cluster uptime:         04 secs\n",
       "H2O cluster version:        3.11.0.99999\n",
       "H2O cluster version age:    1 day\n",
       "H2O cluster name:           arno\n",
       "H2O cluster total nodes:    1\n",
       "H2O cluster free memory:    13.96 Gb\n",
       "H2O cluster total cores:    12\n",
       "H2O cluster allowed cores:  12\n",
       "H2O cluster status:         accepting new members, healthy\n",
       "H2O connection url:         http://localhost:54321\n",
       "H2O connection proxy:\n",
       "Python version:             2.7.12 final\n",
       "--------------------------  ------------------------------"
      ]
     },
     "metadata": {},
     "output_type": "display_data"
    }
   ],
   "source": [
    "h2o.init(nthreads=-1)"
   ]
  },
  {
   "cell_type": "code",
   "execution_count": 107,
   "metadata": {
    "collapsed": false
   },
   "outputs": [
    {
     "name": "stdout",
     "output_type": "stream",
     "text": [
      "Create Frame progress: |██████████████████████████████████████████████████████████████████████| 100%\n"
     ]
    }
   ],
   "source": [
    "frame = h2o.create_frame(cols=100,binary_fraction=0,missing_fraction=0,categorical_fraction=0,\n",
    "                         has_response=True, response_factors=1)"
   ]
  },
  {
   "cell_type": "code",
   "execution_count": 108,
   "metadata": {
    "collapsed": false,
    "scrolled": true
   },
   "outputs": [
    {
     "data": {
      "text/html": [
       "<table>\n",
       "<tr><th style=\"text-align: right;\">  response</th><th style=\"text-align: right;\">       C1</th><th style=\"text-align: right;\">       C2</th><th style=\"text-align: right;\">       C3</th><th style=\"text-align: right;\">  C4</th><th style=\"text-align: right;\">       C5</th><th style=\"text-align: right;\">       C6</th><th style=\"text-align: right;\">  C7</th><th style=\"text-align: right;\">  C8</th><th style=\"text-align: right;\">       C9</th><th style=\"text-align: right;\">  C10</th><th style=\"text-align: right;\">      C11</th><th style=\"text-align: right;\">  C12</th><th style=\"text-align: right;\">      C13</th><th style=\"text-align: right;\">      C14</th><th style=\"text-align: right;\">     C15</th><th style=\"text-align: right;\">  C16</th><th style=\"text-align: right;\">     C17</th><th style=\"text-align: right;\">      C18</th><th style=\"text-align: right;\">  C19</th><th style=\"text-align: right;\">      C20</th><th style=\"text-align: right;\">     C21</th><th style=\"text-align: right;\">      C22</th><th style=\"text-align: right;\">  C23</th><th style=\"text-align: right;\">      C24</th><th style=\"text-align: right;\">      C25</th><th style=\"text-align: right;\">      C26</th><th style=\"text-align: right;\">     C27</th><th style=\"text-align: right;\">     C28</th><th style=\"text-align: right;\">      C29</th><th style=\"text-align: right;\">      C30</th><th style=\"text-align: right;\">  C31</th><th style=\"text-align: right;\">     C32</th><th style=\"text-align: right;\">     C33</th><th style=\"text-align: right;\">      C34</th><th style=\"text-align: right;\">      C35</th><th style=\"text-align: right;\">      C36</th><th style=\"text-align: right;\">      C37</th><th style=\"text-align: right;\">     C38</th><th style=\"text-align: right;\">      C39</th><th style=\"text-align: right;\">  C40</th><th style=\"text-align: right;\">      C41</th><th style=\"text-align: right;\">      C42</th><th style=\"text-align: right;\">     C43</th><th style=\"text-align: right;\">     C44</th><th style=\"text-align: right;\">      C45</th><th style=\"text-align: right;\">     C46</th><th style=\"text-align: right;\">      C47</th><th style=\"text-align: right;\">  C48</th><th style=\"text-align: right;\">      C49</th><th style=\"text-align: right;\">  C50</th><th style=\"text-align: right;\">  C51</th><th style=\"text-align: right;\">  C52</th><th style=\"text-align: right;\">     C53</th><th style=\"text-align: right;\">      C54</th><th style=\"text-align: right;\">  C55</th><th style=\"text-align: right;\">  C56</th><th style=\"text-align: right;\">     C57</th><th style=\"text-align: right;\">      C58</th><th style=\"text-align: right;\">  C59</th><th style=\"text-align: right;\">  C60</th><th style=\"text-align: right;\">      C61</th><th style=\"text-align: right;\">  C62</th><th style=\"text-align: right;\">      C63</th><th style=\"text-align: right;\">      C64</th><th style=\"text-align: right;\">      C65</th><th style=\"text-align: right;\">  C66</th><th style=\"text-align: right;\">      C67</th><th style=\"text-align: right;\">        C68</th><th style=\"text-align: right;\">      C69</th><th style=\"text-align: right;\">      C70</th><th style=\"text-align: right;\">       C71</th><th style=\"text-align: right;\">     C72</th><th style=\"text-align: right;\">  C73</th><th style=\"text-align: right;\">  C74</th><th style=\"text-align: right;\">  C75</th><th style=\"text-align: right;\">     C76</th><th style=\"text-align: right;\">       C77</th><th style=\"text-align: right;\">      C78</th><th style=\"text-align: right;\">     C79</th><th style=\"text-align: right;\">      C80</th><th style=\"text-align: right;\">  C81</th><th style=\"text-align: right;\">      C82</th><th style=\"text-align: right;\">       C83</th><th style=\"text-align: right;\">  C84</th><th style=\"text-align: right;\">      C85</th><th style=\"text-align: right;\">     C86</th><th style=\"text-align: right;\">     C87</th><th style=\"text-align: right;\">      C88</th><th style=\"text-align: right;\">      C89</th><th style=\"text-align: right;\">      C90</th><th style=\"text-align: right;\">     C91</th><th style=\"text-align: right;\">      C92</th><th style=\"text-align: right;\">      C93</th><th style=\"text-align: right;\">  C94</th><th style=\"text-align: right;\">       C95</th><th style=\"text-align: right;\">      C96</th><th style=\"text-align: right;\">     C97</th><th style=\"text-align: right;\">  C98</th><th style=\"text-align: right;\">  C99</th><th style=\"text-align: right;\">    C100</th></tr>\n",
       "<tr><td style=\"text-align: right;\">   96.7365</td><td style=\"text-align: right;\">-63.1    </td><td style=\"text-align: right;\">-47.6417 </td><td style=\"text-align: right;\"> 46.5744 </td><td style=\"text-align: right;\">  -6</td><td style=\"text-align: right;\">-68.885  </td><td style=\"text-align: right;\"> 96.9477 </td><td style=\"text-align: right;\"> -89</td><td style=\"text-align: right;\">  86</td><td style=\"text-align: right;\">  9.99778</td><td style=\"text-align: right;\">  -20</td><td style=\"text-align: right;\"> 38.4544 </td><td style=\"text-align: right;\">  -10</td><td style=\"text-align: right;\"> -3.54834</td><td style=\"text-align: right;\">-72.9411 </td><td style=\"text-align: right;\"> 90.1386</td><td style=\"text-align: right;\">  -41</td><td style=\"text-align: right;\">-17.1353</td><td style=\"text-align: right;\">-21.4727 </td><td style=\"text-align: right;\">   88</td><td style=\"text-align: right;\"> 47.3278 </td><td style=\"text-align: right;\">-18.2263</td><td style=\"text-align: right;\">-88.9352 </td><td style=\"text-align: right;\">  -37</td><td style=\"text-align: right;\">-56.3288 </td><td style=\"text-align: right;\"> -1.9214 </td><td style=\"text-align: right;\">  5.57803</td><td style=\"text-align: right;\">-69.0953</td><td style=\"text-align: right;\"> 27.1838</td><td style=\"text-align: right;\"> 99.9547 </td><td style=\"text-align: right;\"> 85.4753 </td><td style=\"text-align: right;\">   73</td><td style=\"text-align: right;\">-12.7777</td><td style=\"text-align: right;\"> 72.7898</td><td style=\"text-align: right;\"> -9.24588</td><td style=\"text-align: right;\"> 45.6384 </td><td style=\"text-align: right;\">-93.0865 </td><td style=\"text-align: right;\">-15.9331 </td><td style=\"text-align: right;\">-13.1023</td><td style=\"text-align: right;\">-64.2107 </td><td style=\"text-align: right;\">   23</td><td style=\"text-align: right;\">-51.6539 </td><td style=\"text-align: right;\"> 27.7314 </td><td style=\"text-align: right;\"> 31.7985</td><td style=\"text-align: right;\">-79.5775</td><td style=\"text-align: right;\">-99.8303 </td><td style=\"text-align: right;\">-57.7458</td><td style=\"text-align: right;\"> 95.7458 </td><td style=\"text-align: right;\">  -57</td><td style=\"text-align: right;\"> -6.41109</td><td style=\"text-align: right;\">  -71</td><td style=\"text-align: right;\">  -38</td><td style=\"text-align: right;\">   73</td><td style=\"text-align: right;\">-27.6499</td><td style=\"text-align: right;\">  1.98144</td><td style=\"text-align: right;\">   58</td><td style=\"text-align: right;\">   80</td><td style=\"text-align: right;\">-56.1474</td><td style=\"text-align: right;\">-18.7159 </td><td style=\"text-align: right;\">   98</td><td style=\"text-align: right;\">   -8</td><td style=\"text-align: right;\">  4.83277</td><td style=\"text-align: right;\">    7</td><td style=\"text-align: right;\">-22.3071 </td><td style=\"text-align: right;\"> 95.9057 </td><td style=\"text-align: right;\"> 95.7646 </td><td style=\"text-align: right;\">   70</td><td style=\"text-align: right;\"> -6.61345</td><td style=\"text-align: right;\">-40.1997   </td><td style=\"text-align: right;\"> 66.4516 </td><td style=\"text-align: right;\"> 38.9605 </td><td style=\"text-align: right;\"> 93.8146  </td><td style=\"text-align: right;\"> 84.1604</td><td style=\"text-align: right;\">  -16</td><td style=\"text-align: right;\">   40</td><td style=\"text-align: right;\">   25</td><td style=\"text-align: right;\">-91.3696</td><td style=\"text-align: right;\">-93.6916  </td><td style=\"text-align: right;\"> 47.1687 </td><td style=\"text-align: right;\"> 22.2209</td><td style=\"text-align: right;\"> 84.7104 </td><td style=\"text-align: right;\">  -11</td><td style=\"text-align: right;\">-74.8743 </td><td style=\"text-align: right;\">-30.5307  </td><td style=\"text-align: right;\">   81</td><td style=\"text-align: right;\"> -7.42803</td><td style=\"text-align: right;\"> 61.0709</td><td style=\"text-align: right;\">-17.5682</td><td style=\"text-align: right;\">-38.659  </td><td style=\"text-align: right;\">-34.4877 </td><td style=\"text-align: right;\">-17.4602 </td><td style=\"text-align: right;\">-39.3993</td><td style=\"text-align: right;\"> 96.5913 </td><td style=\"text-align: right;\">-88.3433 </td><td style=\"text-align: right;\">  -56</td><td style=\"text-align: right;\"> 83.2917  </td><td style=\"text-align: right;\"> 55.2055 </td><td style=\"text-align: right;\"> 16.9876</td><td style=\"text-align: right;\">   35</td><td style=\"text-align: right;\">  -71</td><td style=\"text-align: right;\"> 80.2196</td></tr>\n",
       "<tr><td style=\"text-align: right;\">   80.2196</td><td style=\"text-align: right;\"> 64.9665 </td><td style=\"text-align: right;\">  2.00453</td><td style=\"text-align: right;\"> 32.6502 </td><td style=\"text-align: right;\">  50</td><td style=\"text-align: right;\">-27.6605 </td><td style=\"text-align: right;\">-72.0948 </td><td style=\"text-align: right;\"> -42</td><td style=\"text-align: right;\">  64</td><td style=\"text-align: right;\">-76.2626 </td><td style=\"text-align: right;\">  -66</td><td style=\"text-align: right;\">-16.7308 </td><td style=\"text-align: right;\">  -83</td><td style=\"text-align: right;\"> 74.1814 </td><td style=\"text-align: right;\">-61.4134 </td><td style=\"text-align: right;\"> 13.2972</td><td style=\"text-align: right;\">   22</td><td style=\"text-align: right;\"> 80.9712</td><td style=\"text-align: right;\">-41.2175 </td><td style=\"text-align: right;\">   74</td><td style=\"text-align: right;\">-88.3022 </td><td style=\"text-align: right;\">-28.3357</td><td style=\"text-align: right;\"> 79.4659 </td><td style=\"text-align: right;\">   34</td><td style=\"text-align: right;\"> 45.777  </td><td style=\"text-align: right;\"> 34.6672 </td><td style=\"text-align: right;\"> 27.7169 </td><td style=\"text-align: right;\"> 46.8899</td><td style=\"text-align: right;\">-20.4999</td><td style=\"text-align: right;\"> 58.5507 </td><td style=\"text-align: right;\"> 84.6901 </td><td style=\"text-align: right;\">   52</td><td style=\"text-align: right;\">-35.9207</td><td style=\"text-align: right;\"> 56.2729</td><td style=\"text-align: right;\"> 63.7637 </td><td style=\"text-align: right;\"> 76.6114 </td><td style=\"text-align: right;\">-73.3252 </td><td style=\"text-align: right;\">-57.3884 </td><td style=\"text-align: right;\">-34.5031</td><td style=\"text-align: right;\"> 91.6094 </td><td style=\"text-align: right;\">  -78</td><td style=\"text-align: right;\">-76.3004 </td><td style=\"text-align: right;\"> 24.2685 </td><td style=\"text-align: right;\"> 51.5267</td><td style=\"text-align: right;\">  5.4758</td><td style=\"text-align: right;\">  1.32537</td><td style=\"text-align: right;\"> 33.2929</td><td style=\"text-align: right;\"> 80.6263 </td><td style=\"text-align: right;\">  -85</td><td style=\"text-align: right;\"> 74.2339 </td><td style=\"text-align: right;\">   81</td><td style=\"text-align: right;\">  -62</td><td style=\"text-align: right;\">  -16</td><td style=\"text-align: right;\">-46.6101</td><td style=\"text-align: right;\"> -5.06858</td><td style=\"text-align: right;\">  -39</td><td style=\"text-align: right;\">  -32</td><td style=\"text-align: right;\"> 72.7696</td><td style=\"text-align: right;\"> 12.5647 </td><td style=\"text-align: right;\">   11</td><td style=\"text-align: right;\">  -56</td><td style=\"text-align: right;\"> 74.7774 </td><td style=\"text-align: right;\">   12</td><td style=\"text-align: right;\">-13.4609 </td><td style=\"text-align: right;\">-63.7515 </td><td style=\"text-align: right;\"> 80.4971 </td><td style=\"text-align: right;\">  -26</td><td style=\"text-align: right;\"> 37.8467 </td><td style=\"text-align: right;\"> -0.0160082</td><td style=\"text-align: right;\"> 86.2291 </td><td style=\"text-align: right;\">-69.0556 </td><td style=\"text-align: right;\">-57.0797  </td><td style=\"text-align: right;\">-67.996 </td><td style=\"text-align: right;\">   20</td><td style=\"text-align: right;\">   55</td><td style=\"text-align: right;\">  -77</td><td style=\"text-align: right;\"> 90.9576</td><td style=\"text-align: right;\">-55.1556  </td><td style=\"text-align: right;\">-55.5587 </td><td style=\"text-align: right;\">-33.4265</td><td style=\"text-align: right;\"> 58.9762 </td><td style=\"text-align: right;\">  -25</td><td style=\"text-align: right;\">-61.0377 </td><td style=\"text-align: right;\"> 30.597   </td><td style=\"text-align: right;\">  -60</td><td style=\"text-align: right;\"> 33.2487 </td><td style=\"text-align: right;\"> 57.4991</td><td style=\"text-align: right;\"> 36.5986</td><td style=\"text-align: right;\"> 68.6564 </td><td style=\"text-align: right;\"> 60.5324 </td><td style=\"text-align: right;\">-62.5551 </td><td style=\"text-align: right;\"> 89.5762</td><td style=\"text-align: right;\">-56.6127 </td><td style=\"text-align: right;\"> 63.8185 </td><td style=\"text-align: right;\">  -93</td><td style=\"text-align: right;\">  7.00835 </td><td style=\"text-align: right;\">  8.6771 </td><td style=\"text-align: right;\">-70.0697</td><td style=\"text-align: right;\">   84</td><td style=\"text-align: right;\">    9</td><td style=\"text-align: right;\"> 87.02  </td></tr>\n",
       "<tr><td style=\"text-align: right;\">   87.02  </td><td style=\"text-align: right;\">  8.3077 </td><td style=\"text-align: right;\">-40.4146 </td><td style=\"text-align: right;\">-38.7572 </td><td style=\"text-align: right;\"> -78</td><td style=\"text-align: right;\"> 39.2995 </td><td style=\"text-align: right;\"> 62.879  </td><td style=\"text-align: right;\"> -90</td><td style=\"text-align: right;\"> -18</td><td style=\"text-align: right;\"> 68.5036 </td><td style=\"text-align: right;\">   35</td><td style=\"text-align: right;\">-63.888  </td><td style=\"text-align: right;\">   13</td><td style=\"text-align: right;\"> 68.746  </td><td style=\"text-align: right;\"> 29.5101 </td><td style=\"text-align: right;\"> 38.0018</td><td style=\"text-align: right;\">   30</td><td style=\"text-align: right;\"> 96.3695</td><td style=\"text-align: right;\">  5.22922</td><td style=\"text-align: right;\">  -91</td><td style=\"text-align: right;\">-16.4422 </td><td style=\"text-align: right;\"> 37.1118</td><td style=\"text-align: right;\"> 45.9995 </td><td style=\"text-align: right;\">    3</td><td style=\"text-align: right;\">-97.3549 </td><td style=\"text-align: right;\"> 63.1142 </td><td style=\"text-align: right;\">-19.5494 </td><td style=\"text-align: right;\"> 37.1899</td><td style=\"text-align: right;\"> 98.8963</td><td style=\"text-align: right;\"> 35.7732 </td><td style=\"text-align: right;\">  6.51401</td><td style=\"text-align: right;\">  -25</td><td style=\"text-align: right;\">-18.0164</td><td style=\"text-align: right;\">-48.1853</td><td style=\"text-align: right;\"> 88.6309 </td><td style=\"text-align: right;\"> 39.2518 </td><td style=\"text-align: right;\">-85.0542 </td><td style=\"text-align: right;\">-29.536  </td><td style=\"text-align: right;\">-30.4109</td><td style=\"text-align: right;\"> 71.0317 </td><td style=\"text-align: right;\">  -76</td><td style=\"text-align: right;\"> 28.2696 </td><td style=\"text-align: right;\">  8.58083</td><td style=\"text-align: right;\">-18.7272</td><td style=\"text-align: right;\">-67.491 </td><td style=\"text-align: right;\">-99.9378 </td><td style=\"text-align: right;\"> 85.392 </td><td style=\"text-align: right;\"> 68.9017 </td><td style=\"text-align: right;\">  -20</td><td style=\"text-align: right;\"> 45.8495 </td><td style=\"text-align: right;\">   34</td><td style=\"text-align: right;\">   34</td><td style=\"text-align: right;\">  -77</td><td style=\"text-align: right;\">-27.1306</td><td style=\"text-align: right;\">-95.545  </td><td style=\"text-align: right;\">  -83</td><td style=\"text-align: right;\">  -95</td><td style=\"text-align: right;\">-91.0532</td><td style=\"text-align: right;\">-15.1906 </td><td style=\"text-align: right;\">   -8</td><td style=\"text-align: right;\">  -92</td><td style=\"text-align: right;\"> 16.4308 </td><td style=\"text-align: right;\">  -23</td><td style=\"text-align: right;\">-95.4656 </td><td style=\"text-align: right;\"> 46.0312 </td><td style=\"text-align: right;\"> 18.1831 </td><td style=\"text-align: right;\">   -6</td><td style=\"text-align: right;\">-46.28   </td><td style=\"text-align: right;\">-89.5301   </td><td style=\"text-align: right;\"> 90.1433 </td><td style=\"text-align: right;\"> 79.8685 </td><td style=\"text-align: right;\">-42.7771  </td><td style=\"text-align: right;\">-29.5158</td><td style=\"text-align: right;\">  -66</td><td style=\"text-align: right;\">   24</td><td style=\"text-align: right;\">   48</td><td style=\"text-align: right;\">-91.4428</td><td style=\"text-align: right;\"> 37.0413  </td><td style=\"text-align: right;\">-40.4754 </td><td style=\"text-align: right;\"> 53.7552</td><td style=\"text-align: right;\"> 76.3168 </td><td style=\"text-align: right;\">   82</td><td style=\"text-align: right;\">-23.3425 </td><td style=\"text-align: right;\"> 43.3854  </td><td style=\"text-align: right;\">  -82</td><td style=\"text-align: right;\"> 63.3403 </td><td style=\"text-align: right;\">-79.5318</td><td style=\"text-align: right;\"> 58.126 </td><td style=\"text-align: right;\">-13.5294 </td><td style=\"text-align: right;\">-29.1723 </td><td style=\"text-align: right;\"> 59.8394 </td><td style=\"text-align: right;\">-29.0674</td><td style=\"text-align: right;\"> 95.3866 </td><td style=\"text-align: right;\"> 59.8875 </td><td style=\"text-align: right;\">   18</td><td style=\"text-align: right;\">-91.161   </td><td style=\"text-align: right;\">-50.4076 </td><td style=\"text-align: right;\">-43.8731</td><td style=\"text-align: right;\">   48</td><td style=\"text-align: right;\">   68</td><td style=\"text-align: right;\"> 18.9306</td></tr>\n",
       "<tr><td style=\"text-align: right;\">   18.9306</td><td style=\"text-align: right;\"> 51.5524 </td><td style=\"text-align: right;\">-27.8915 </td><td style=\"text-align: right;\">  2.39198</td><td style=\"text-align: right;\"> -59</td><td style=\"text-align: right;\"> 70.7798 </td><td style=\"text-align: right;\">  6.98306</td><td style=\"text-align: right;\"> -73</td><td style=\"text-align: right;\"> -97</td><td style=\"text-align: right;\">-65.9225 </td><td style=\"text-align: right;\">   27</td><td style=\"text-align: right;\"> -6.77124</td><td style=\"text-align: right;\">   26</td><td style=\"text-align: right;\"> -1.41661</td><td style=\"text-align: right;\"> -8.41517</td><td style=\"text-align: right;\"> 58.7498</td><td style=\"text-align: right;\">  -46</td><td style=\"text-align: right;\">-25.1891</td><td style=\"text-align: right;\">-78.4035 </td><td style=\"text-align: right;\">   16</td><td style=\"text-align: right;\">-44.8241 </td><td style=\"text-align: right;\"> 10.7573</td><td style=\"text-align: right;\">-95.7129 </td><td style=\"text-align: right;\">  -59</td><td style=\"text-align: right;\"> 40.4209 </td><td style=\"text-align: right;\"> 42.5928 </td><td style=\"text-align: right;\">-42.8793 </td><td style=\"text-align: right;\"> 43.6818</td><td style=\"text-align: right;\">-24.1504</td><td style=\"text-align: right;\">-79.6651 </td><td style=\"text-align: right;\"> 66.2368 </td><td style=\"text-align: right;\">   81</td><td style=\"text-align: right;\">-85.0853</td><td style=\"text-align: right;\">-31.0196</td><td style=\"text-align: right;\"> 28.7591 </td><td style=\"text-align: right;\">-14.4936 </td><td style=\"text-align: right;\"> 65.5248 </td><td style=\"text-align: right;\">-14.5567 </td><td style=\"text-align: right;\">-69.0826</td><td style=\"text-align: right;\">-31.509  </td><td style=\"text-align: right;\">   24</td><td style=\"text-align: right;\">  7.54629</td><td style=\"text-align: right;\"> 95.4029 </td><td style=\"text-align: right;\"> 24.644 </td><td style=\"text-align: right;\"> 12.0591</td><td style=\"text-align: right;\">-87.501  </td><td style=\"text-align: right;\"> 87.7862</td><td style=\"text-align: right;\">-14.3206 </td><td style=\"text-align: right;\">  -26</td><td style=\"text-align: right;\"> 37.554  </td><td style=\"text-align: right;\">  -12</td><td style=\"text-align: right;\">   54</td><td style=\"text-align: right;\">  -95</td><td style=\"text-align: right;\">-48.8596</td><td style=\"text-align: right;\">-23.3127 </td><td style=\"text-align: right;\">  -84</td><td style=\"text-align: right;\">  -78</td><td style=\"text-align: right;\"> 59.3215</td><td style=\"text-align: right;\">-73.8663 </td><td style=\"text-align: right;\">   53</td><td style=\"text-align: right;\">  -91</td><td style=\"text-align: right;\"> 76.5399 </td><td style=\"text-align: right;\">  -46</td><td style=\"text-align: right;\">-22.0482 </td><td style=\"text-align: right;\"> 80.9321 </td><td style=\"text-align: right;\"> 64.61   </td><td style=\"text-align: right;\">  -59</td><td style=\"text-align: right;\">-35.6819 </td><td style=\"text-align: right;\"> 72.4878   </td><td style=\"text-align: right;\"> 51.6868 </td><td style=\"text-align: right;\">  5.35061</td><td style=\"text-align: right;\">-13.6894  </td><td style=\"text-align: right;\"> 55.4389</td><td style=\"text-align: right;\">  -89</td><td style=\"text-align: right;\">  -49</td><td style=\"text-align: right;\">    9</td><td style=\"text-align: right;\"> 31.3214</td><td style=\"text-align: right;\">  0.486513</td><td style=\"text-align: right;\">-91.9354 </td><td style=\"text-align: right;\"> 89.8814</td><td style=\"text-align: right;\"> -5.90396</td><td style=\"text-align: right;\">   48</td><td style=\"text-align: right;\"> 63.2368 </td><td style=\"text-align: right;\">-17.5378  </td><td style=\"text-align: right;\">   27</td><td style=\"text-align: right;\">-44.9251 </td><td style=\"text-align: right;\"> 85.8133</td><td style=\"text-align: right;\">-80.8117</td><td style=\"text-align: right;\">-99.3299 </td><td style=\"text-align: right;\">-80.935  </td><td style=\"text-align: right;\">-55.4165 </td><td style=\"text-align: right;\">-59.2884</td><td style=\"text-align: right;\"> -9.92572</td><td style=\"text-align: right;\"> 83.9287 </td><td style=\"text-align: right;\">  -54</td><td style=\"text-align: right;\"> 90.8215  </td><td style=\"text-align: right;\"> -5.84039</td><td style=\"text-align: right;\">-83.9271</td><td style=\"text-align: right;\">   77</td><td style=\"text-align: right;\">   -3</td><td style=\"text-align: right;\"> 68.2784</td></tr>\n",
       "<tr><td style=\"text-align: right;\">   68.2784</td><td style=\"text-align: right;\">-92.1579 </td><td style=\"text-align: right;\"> 57.9068 </td><td style=\"text-align: right;\"> 62.8852 </td><td style=\"text-align: right;\"> -65</td><td style=\"text-align: right;\">-55.2837 </td><td style=\"text-align: right;\">-59.6201 </td><td style=\"text-align: right;\">  38</td><td style=\"text-align: right;\"> -46</td><td style=\"text-align: right;\"> 36.1635 </td><td style=\"text-align: right;\">   97</td><td style=\"text-align: right;\"> 25.7822 </td><td style=\"text-align: right;\">   81</td><td style=\"text-align: right;\">-55.1398 </td><td style=\"text-align: right;\">-84.1493 </td><td style=\"text-align: right;\">-21.3195</td><td style=\"text-align: right;\">   12</td><td style=\"text-align: right;\">-40.7044</td><td style=\"text-align: right;\">-55.8637 </td><td style=\"text-align: right;\">   72</td><td style=\"text-align: right;\">-10.4243 </td><td style=\"text-align: right;\">-82.1317</td><td style=\"text-align: right;\">-22.7336 </td><td style=\"text-align: right;\">   75</td><td style=\"text-align: right;\"> 24.2086 </td><td style=\"text-align: right;\">  9.27167</td><td style=\"text-align: right;\"> 25.2063 </td><td style=\"text-align: right;\"> 13.4561</td><td style=\"text-align: right;\"> 29.6597</td><td style=\"text-align: right;\"> 84.3318 </td><td style=\"text-align: right;\">-20.0071 </td><td style=\"text-align: right;\">   -3</td><td style=\"text-align: right;\">-76.573 </td><td style=\"text-align: right;\"> 47.6092</td><td style=\"text-align: right;\"> 73.5785 </td><td style=\"text-align: right;\">-64.106  </td><td style=\"text-align: right;\"> -5.66817</td><td style=\"text-align: right;\"> 73.0423 </td><td style=\"text-align: right;\">-18.8753</td><td style=\"text-align: right;\">  8.74555</td><td style=\"text-align: right;\">   83</td><td style=\"text-align: right;\">-29.0357 </td><td style=\"text-align: right;\"> 37.0468 </td><td style=\"text-align: right;\"> 22.8334</td><td style=\"text-align: right;\">-72.4816</td><td style=\"text-align: right;\"> 30.8898 </td><td style=\"text-align: right;\">-27.5817</td><td style=\"text-align: right;\"> 70.5949 </td><td style=\"text-align: right;\">   47</td><td style=\"text-align: right;\"> 72.2814 </td><td style=\"text-align: right;\">  -71</td><td style=\"text-align: right;\">   68</td><td style=\"text-align: right;\">  -41</td><td style=\"text-align: right;\">-15.8581</td><td style=\"text-align: right;\">-84.9483 </td><td style=\"text-align: right;\">   97</td><td style=\"text-align: right;\">  -28</td><td style=\"text-align: right;\"> 98.9827</td><td style=\"text-align: right;\"> -2.64886</td><td style=\"text-align: right;\">   72</td><td style=\"text-align: right;\">  -37</td><td style=\"text-align: right;\">-54.0482 </td><td style=\"text-align: right;\">   89</td><td style=\"text-align: right;\"> -4.85298</td><td style=\"text-align: right;\">  1.8985 </td><td style=\"text-align: right;\">-58.5264 </td><td style=\"text-align: right;\">   71</td><td style=\"text-align: right;\">-62.5459 </td><td style=\"text-align: right;\">-76.9662   </td><td style=\"text-align: right;\">-10.246  </td><td style=\"text-align: right;\"> 10.5572 </td><td style=\"text-align: right;\"> 54.0291  </td><td style=\"text-align: right;\">-71.2033</td><td style=\"text-align: right;\">  -52</td><td style=\"text-align: right;\">    9</td><td style=\"text-align: right;\">  -14</td><td style=\"text-align: right;\"> 84.2678</td><td style=\"text-align: right;\">-73.7258  </td><td style=\"text-align: right;\">  2.17149</td><td style=\"text-align: right;\">-66.3275</td><td style=\"text-align: right;\"> 95.6223 </td><td style=\"text-align: right;\">   65</td><td style=\"text-align: right;\">  8.04374</td><td style=\"text-align: right;\">  5.79764 </td><td style=\"text-align: right;\">  -12</td><td style=\"text-align: right;\"> 10.6401 </td><td style=\"text-align: right;\">-21.3786</td><td style=\"text-align: right;\">-46.2408</td><td style=\"text-align: right;\"> 60.2095 </td><td style=\"text-align: right;\">  7.75586</td><td style=\"text-align: right;\">  6.45017</td><td style=\"text-align: right;\"> 86.7454</td><td style=\"text-align: right;\"> 68.8757 </td><td style=\"text-align: right;\">-87.9177 </td><td style=\"text-align: right;\">   35</td><td style=\"text-align: right;\">  0.352519</td><td style=\"text-align: right;\">-68.0268 </td><td style=\"text-align: right;\"> 22.1385</td><td style=\"text-align: right;\">  -86</td><td style=\"text-align: right;\">  -11</td><td style=\"text-align: right;\"> 80.0716</td></tr>\n",
       "<tr><td style=\"text-align: right;\">   80.0716</td><td style=\"text-align: right;\"> 62.0426 </td><td style=\"text-align: right;\"> 72.7915 </td><td style=\"text-align: right;\"> 75.7595 </td><td style=\"text-align: right;\"> -58</td><td style=\"text-align: right;\"> 86.5048 </td><td style=\"text-align: right;\"> 95.6307 </td><td style=\"text-align: right;\">  60</td><td style=\"text-align: right;\"> -47</td><td style=\"text-align: right;\"> 60.5242 </td><td style=\"text-align: right;\">  -12</td><td style=\"text-align: right;\"> 11.5251 </td><td style=\"text-align: right;\">   17</td><td style=\"text-align: right;\"> 41.0371 </td><td style=\"text-align: right;\"> 98.3555 </td><td style=\"text-align: right;\">-87.582 </td><td style=\"text-align: right;\">  -27</td><td style=\"text-align: right;\"> 48.2181</td><td style=\"text-align: right;\">-64.7353 </td><td style=\"text-align: right;\">    5</td><td style=\"text-align: right;\"> 68.5704 </td><td style=\"text-align: right;\"> 48.573 </td><td style=\"text-align: right;\"> 48.1119 </td><td style=\"text-align: right;\">  -79</td><td style=\"text-align: right;\">  7.32828</td><td style=\"text-align: right;\">-68.9459 </td><td style=\"text-align: right;\"> 45.5623 </td><td style=\"text-align: right;\"> 59.2843</td><td style=\"text-align: right;\"> 41.8177</td><td style=\"text-align: right;\">-80.9009 </td><td style=\"text-align: right;\"> 81.9697 </td><td style=\"text-align: right;\">   39</td><td style=\"text-align: right;\">-27.7881</td><td style=\"text-align: right;\">-96.6256</td><td style=\"text-align: right;\">-77.1793 </td><td style=\"text-align: right;\">-35.0056 </td><td style=\"text-align: right;\">-53.6352 </td><td style=\"text-align: right;\"> 35.2003 </td><td style=\"text-align: right;\">-74.7817</td><td style=\"text-align: right;\">-83.8736 </td><td style=\"text-align: right;\">  -78</td><td style=\"text-align: right;\">-54.249  </td><td style=\"text-align: right;\"> 31.0844 </td><td style=\"text-align: right;\">-13.2023</td><td style=\"text-align: right;\"> 40.6421</td><td style=\"text-align: right;\">-75.3586 </td><td style=\"text-align: right;\"> 10.1055</td><td style=\"text-align: right;\">-80.9009 </td><td style=\"text-align: right;\">    2</td><td style=\"text-align: right;\"> 37.5853 </td><td style=\"text-align: right;\">  -85</td><td style=\"text-align: right;\">   24</td><td style=\"text-align: right;\">  -55</td><td style=\"text-align: right;\">-12.2767</td><td style=\"text-align: right;\"> 89.8525 </td><td style=\"text-align: right;\">   -9</td><td style=\"text-align: right;\">   64</td><td style=\"text-align: right;\"> 55.5448</td><td style=\"text-align: right;\">-71.2419 </td><td style=\"text-align: right;\">   -4</td><td style=\"text-align: right;\">   17</td><td style=\"text-align: right;\"> 19.6694 </td><td style=\"text-align: right;\">   98</td><td style=\"text-align: right;\">  7.34388</td><td style=\"text-align: right;\">-39.2241 </td><td style=\"text-align: right;\"> -2.24953</td><td style=\"text-align: right;\">   59</td><td style=\"text-align: right;\">-67.9681 </td><td style=\"text-align: right;\"> 74.955    </td><td style=\"text-align: right;\"> 29.1898 </td><td style=\"text-align: right;\">-49.477  </td><td style=\"text-align: right;\">-52.5628  </td><td style=\"text-align: right;\">-47.934 </td><td style=\"text-align: right;\">   33</td><td style=\"text-align: right;\">   48</td><td style=\"text-align: right;\"> -100</td><td style=\"text-align: right;\"> 13.984 </td><td style=\"text-align: right;\">-31.176   </td><td style=\"text-align: right;\">-79.7664 </td><td style=\"text-align: right;\"> 60.06  </td><td style=\"text-align: right;\"> 28.8325 </td><td style=\"text-align: right;\">   57</td><td style=\"text-align: right;\">  3.96136</td><td style=\"text-align: right;\"> -9.48581 </td><td style=\"text-align: right;\">   96</td><td style=\"text-align: right;\"> -4.80689</td><td style=\"text-align: right;\">-98.32  </td><td style=\"text-align: right;\"> 35.3278</td><td style=\"text-align: right;\"> 99.9754 </td><td style=\"text-align: right;\"> -1.32057</td><td style=\"text-align: right;\"> 34.8858 </td><td style=\"text-align: right;\"> 75.4466</td><td style=\"text-align: right;\">-81.4732 </td><td style=\"text-align: right;\"> 78.2463 </td><td style=\"text-align: right;\">   35</td><td style=\"text-align: right;\"> 33.7557  </td><td style=\"text-align: right;\">-32.6836 </td><td style=\"text-align: right;\">-18.1566</td><td style=\"text-align: right;\">  -65</td><td style=\"text-align: right;\">   -1</td><td style=\"text-align: right;\"> 23.8786</td></tr>\n",
       "<tr><td style=\"text-align: right;\">   23.8786</td><td style=\"text-align: right;\">-15.8316 </td><td style=\"text-align: right;\"> 48.4462 </td><td style=\"text-align: right;\"> 25.4972 </td><td style=\"text-align: right;\"> -12</td><td style=\"text-align: right;\">  8.55949</td><td style=\"text-align: right;\">-85.2158 </td><td style=\"text-align: right;\"> -85</td><td style=\"text-align: right;\"> -33</td><td style=\"text-align: right;\"> 53.8978 </td><td style=\"text-align: right;\">   13</td><td style=\"text-align: right;\">-85.1984 </td><td style=\"text-align: right;\">   25</td><td style=\"text-align: right;\">-75.3867 </td><td style=\"text-align: right;\"> 70.2064 </td><td style=\"text-align: right;\"> 26.1099</td><td style=\"text-align: right;\">   66</td><td style=\"text-align: right;\"> 77.5901</td><td style=\"text-align: right;\">-36.471  </td><td style=\"text-align: right;\">  -48</td><td style=\"text-align: right;\">-42.4893 </td><td style=\"text-align: right;\"> 85.8797</td><td style=\"text-align: right;\">-80.3715 </td><td style=\"text-align: right;\">  -10</td><td style=\"text-align: right;\"> 10.2968 </td><td style=\"text-align: right;\">-63.4214 </td><td style=\"text-align: right;\"> 59.4654 </td><td style=\"text-align: right;\"> 22.2456</td><td style=\"text-align: right;\">-92.6651</td><td style=\"text-align: right;\">  7.19019</td><td style=\"text-align: right;\"> 22.7035 </td><td style=\"text-align: right;\">   76</td><td style=\"text-align: right;\">-20.7429</td><td style=\"text-align: right;\">-80.1269</td><td style=\"text-align: right;\">-51.1768 </td><td style=\"text-align: right;\"> 29.5199 </td><td style=\"text-align: right;\">  3.61183</td><td style=\"text-align: right;\">-52.0439 </td><td style=\"text-align: right;\"> 59.1579</td><td style=\"text-align: right;\"> 24.5468 </td><td style=\"text-align: right;\">  -64</td><td style=\"text-align: right;\"> 30.118  </td><td style=\"text-align: right;\">-39.758  </td><td style=\"text-align: right;\">-86.1529</td><td style=\"text-align: right;\">-79.6123</td><td style=\"text-align: right;\"> 20.3741 </td><td style=\"text-align: right;\"> 89.6231</td><td style=\"text-align: right;\">-44.3597 </td><td style=\"text-align: right;\">   23</td><td style=\"text-align: right;\">-29.7203 </td><td style=\"text-align: right;\">   34</td><td style=\"text-align: right;\">   18</td><td style=\"text-align: right;\">   27</td><td style=\"text-align: right;\"> 72.4801</td><td style=\"text-align: right;\"> 61.632  </td><td style=\"text-align: right;\">   90</td><td style=\"text-align: right;\">   55</td><td style=\"text-align: right;\"> -5.2798</td><td style=\"text-align: right;\"> -6.38671</td><td style=\"text-align: right;\">  -79</td><td style=\"text-align: right;\">  -83</td><td style=\"text-align: right;\">-88.4431 </td><td style=\"text-align: right;\">    6</td><td style=\"text-align: right;\"> 18.0785 </td><td style=\"text-align: right;\">  1.29855</td><td style=\"text-align: right;\"> 52.3517 </td><td style=\"text-align: right;\">  -21</td><td style=\"text-align: right;\"> 72.5362 </td><td style=\"text-align: right;\"> 54.8591   </td><td style=\"text-align: right;\">-38.2625 </td><td style=\"text-align: right;\"> 84.5683 </td><td style=\"text-align: right;\">-35.7829  </td><td style=\"text-align: right;\"> 31.1437</td><td style=\"text-align: right;\">   28</td><td style=\"text-align: right;\">  -86</td><td style=\"text-align: right;\">  -84</td><td style=\"text-align: right;\">-29.8228</td><td style=\"text-align: right;\">-16.7207  </td><td style=\"text-align: right;\">  8.16542</td><td style=\"text-align: right;\"> 56.6053</td><td style=\"text-align: right;\"> 30.4332 </td><td style=\"text-align: right;\">   53</td><td style=\"text-align: right;\">-22.2883 </td><td style=\"text-align: right;\">-93.1966  </td><td style=\"text-align: right;\">   23</td><td style=\"text-align: right;\"> 21.4129 </td><td style=\"text-align: right;\">-39.8963</td><td style=\"text-align: right;\">-96.4321</td><td style=\"text-align: right;\">  3.95247</td><td style=\"text-align: right;\"> 14.0111 </td><td style=\"text-align: right;\"> 64.5449 </td><td style=\"text-align: right;\">-84.2632</td><td style=\"text-align: right;\"> 28.9514 </td><td style=\"text-align: right;\"> 55.8052 </td><td style=\"text-align: right;\">   15</td><td style=\"text-align: right;\"> 10.4123  </td><td style=\"text-align: right;\">-96.8416 </td><td style=\"text-align: right;\">-24.916 </td><td style=\"text-align: right;\">   88</td><td style=\"text-align: right;\">    5</td><td style=\"text-align: right;\"> 15.2426</td></tr>\n",
       "<tr><td style=\"text-align: right;\">   15.2426</td><td style=\"text-align: right;\">-82.0204 </td><td style=\"text-align: right;\"> 34.5112 </td><td style=\"text-align: right;\"> -6.49161</td><td style=\"text-align: right;\"> -54</td><td style=\"text-align: right;\">-79.6877 </td><td style=\"text-align: right;\"> 42.0253 </td><td style=\"text-align: right;\"> -91</td><td style=\"text-align: right;\"> -40</td><td style=\"text-align: right;\"> 78.3511 </td><td style=\"text-align: right;\">   64</td><td style=\"text-align: right;\"> -5.7329 </td><td style=\"text-align: right;\">  -23</td><td style=\"text-align: right;\"> 43.2067 </td><td style=\"text-align: right;\">  2.15528</td><td style=\"text-align: right;\">-56.4426</td><td style=\"text-align: right;\">   59</td><td style=\"text-align: right;\">-50.7397</td><td style=\"text-align: right;\">-12.4803 </td><td style=\"text-align: right;\">  -81</td><td style=\"text-align: right;\">-26.2191 </td><td style=\"text-align: right;\">-30.5429</td><td style=\"text-align: right;\"> 49.9745 </td><td style=\"text-align: right;\">   66</td><td style=\"text-align: right;\"> 58.5258 </td><td style=\"text-align: right;\">  9.00132</td><td style=\"text-align: right;\">-49.8233 </td><td style=\"text-align: right;\">-20.6065</td><td style=\"text-align: right;\"> 64.0135</td><td style=\"text-align: right;\">-25.0485 </td><td style=\"text-align: right;\"> 38.2829 </td><td style=\"text-align: right;\">  -12</td><td style=\"text-align: right;\">-57.8023</td><td style=\"text-align: right;\">-34.1596</td><td style=\"text-align: right;\"> 31.0128 </td><td style=\"text-align: right;\">-23.0026 </td><td style=\"text-align: right;\"> 14.6701 </td><td style=\"text-align: right;\">-24.2864 </td><td style=\"text-align: right;\"> 86.2343</td><td style=\"text-align: right;\">-99.8598 </td><td style=\"text-align: right;\">  -26</td><td style=\"text-align: right;\"> 51.8444 </td><td style=\"text-align: right;\"> 27.2101 </td><td style=\"text-align: right;\"> 39.7756</td><td style=\"text-align: right;\">-74.9601</td><td style=\"text-align: right;\">-20.1254 </td><td style=\"text-align: right;\">-75.7224</td><td style=\"text-align: right;\">  9.63159</td><td style=\"text-align: right;\">  -56</td><td style=\"text-align: right;\">-56.6146 </td><td style=\"text-align: right;\">  -79</td><td style=\"text-align: right;\">    8</td><td style=\"text-align: right;\">  -92</td><td style=\"text-align: right;\">-59.7287</td><td style=\"text-align: right;\">-74.5252 </td><td style=\"text-align: right;\">  -55</td><td style=\"text-align: right;\">  -45</td><td style=\"text-align: right;\"> 33.1544</td><td style=\"text-align: right;\"> 88.4236 </td><td style=\"text-align: right;\">   96</td><td style=\"text-align: right;\">   -7</td><td style=\"text-align: right;\">-46.4467 </td><td style=\"text-align: right;\">   38</td><td style=\"text-align: right;\"> 68.2664 </td><td style=\"text-align: right;\">-19.5659 </td><td style=\"text-align: right;\"> 46.3823 </td><td style=\"text-align: right;\">   30</td><td style=\"text-align: right;\"> 42.8921 </td><td style=\"text-align: right;\">-56.4746   </td><td style=\"text-align: right;\"> 28.7968 </td><td style=\"text-align: right;\"> 88.7903 </td><td style=\"text-align: right;\">  6.72548 </td><td style=\"text-align: right;\">-77.7896</td><td style=\"text-align: right;\">   55</td><td style=\"text-align: right;\">    5</td><td style=\"text-align: right;\">   71</td><td style=\"text-align: right;\"> 33.6897</td><td style=\"text-align: right;\">-25.386   </td><td style=\"text-align: right;\"> 66.6122 </td><td style=\"text-align: right;\">-47.6384</td><td style=\"text-align: right;\">-63.6182 </td><td style=\"text-align: right;\">   97</td><td style=\"text-align: right;\">-78.2067 </td><td style=\"text-align: right;\">  3.09561 </td><td style=\"text-align: right;\">  100</td><td style=\"text-align: right;\">-55.0149 </td><td style=\"text-align: right;\"> 46.0723</td><td style=\"text-align: right;\"> 52.5333</td><td style=\"text-align: right;\"> 21.654  </td><td style=\"text-align: right;\"> 86.1827 </td><td style=\"text-align: right;\">  8.753  </td><td style=\"text-align: right;\">-50.9718</td><td style=\"text-align: right;\">-86.9612 </td><td style=\"text-align: right;\"> -7.39168</td><td style=\"text-align: right;\">   65</td><td style=\"text-align: right;\">  6.58803 </td><td style=\"text-align: right;\"> 95.1427 </td><td style=\"text-align: right;\">-56.5418</td><td style=\"text-align: right;\">  -31</td><td style=\"text-align: right;\">  -10</td><td style=\"text-align: right;\">-63.5082</td></tr>\n",
       "<tr><td style=\"text-align: right;\">  -63.5082</td><td style=\"text-align: right;\">-36.7488 </td><td style=\"text-align: right;\"> 45.3556 </td><td style=\"text-align: right;\">-35.5629 </td><td style=\"text-align: right;\">  -7</td><td style=\"text-align: right;\"> 22.2262 </td><td style=\"text-align: right;\">-12.0369 </td><td style=\"text-align: right;\"> -41</td><td style=\"text-align: right;\">  45</td><td style=\"text-align: right;\">-29.5911 </td><td style=\"text-align: right;\">   72</td><td style=\"text-align: right;\">-94.7021 </td><td style=\"text-align: right;\">  -57</td><td style=\"text-align: right;\">-22.2863 </td><td style=\"text-align: right;\">-73.1568 </td><td style=\"text-align: right;\"> 96.5711</td><td style=\"text-align: right;\">  -62</td><td style=\"text-align: right;\">-77.819 </td><td style=\"text-align: right;\">-56.0461 </td><td style=\"text-align: right;\">  -27</td><td style=\"text-align: right;\">-96.0299 </td><td style=\"text-align: right;\">-32.1678</td><td style=\"text-align: right;\">-88.7937 </td><td style=\"text-align: right;\">    1</td><td style=\"text-align: right;\">-43.4573 </td><td style=\"text-align: right;\"> 17.1982 </td><td style=\"text-align: right;\"> 99.2725 </td><td style=\"text-align: right;\">-18.7636</td><td style=\"text-align: right;\">-41.3647</td><td style=\"text-align: right;\"> 74.5974 </td><td style=\"text-align: right;\"> 17.1087 </td><td style=\"text-align: right;\">   93</td><td style=\"text-align: right;\"> 65.3622</td><td style=\"text-align: right;\">-82.3422</td><td style=\"text-align: right;\">-54.5502 </td><td style=\"text-align: right;\">  3.93187</td><td style=\"text-align: right;\"> 68.9357 </td><td style=\"text-align: right;\"> 67.0794 </td><td style=\"text-align: right;\"> 93.759 </td><td style=\"text-align: right;\">-29.78   </td><td style=\"text-align: right;\">  -67</td><td style=\"text-align: right;\">-52.8796 </td><td style=\"text-align: right;\">-26.4282 </td><td style=\"text-align: right;\">-34.8039</td><td style=\"text-align: right;\"> 29.0259</td><td style=\"text-align: right;\">  5.34485</td><td style=\"text-align: right;\"> 21.6008</td><td style=\"text-align: right;\"> 21.037  </td><td style=\"text-align: right;\">  -73</td><td style=\"text-align: right;\"> 36.1429 </td><td style=\"text-align: right;\">  -24</td><td style=\"text-align: right;\">  -76</td><td style=\"text-align: right;\">   51</td><td style=\"text-align: right;\">-27.6194</td><td style=\"text-align: right;\"> 57.4163 </td><td style=\"text-align: right;\">   20</td><td style=\"text-align: right;\">   16</td><td style=\"text-align: right;\"> 77.4522</td><td style=\"text-align: right;\">-53.9499 </td><td style=\"text-align: right;\">   98</td><td style=\"text-align: right;\">   66</td><td style=\"text-align: right;\">-45.3066 </td><td style=\"text-align: right;\">   77</td><td style=\"text-align: right;\"> 10.9849 </td><td style=\"text-align: right;\"> 33.7346 </td><td style=\"text-align: right;\">-58.6457 </td><td style=\"text-align: right;\">   48</td><td style=\"text-align: right;\">  1.80895</td><td style=\"text-align: right;\">-64.5703   </td><td style=\"text-align: right;\"> -4.72468</td><td style=\"text-align: right;\"> 76.2207 </td><td style=\"text-align: right;\"> 39.6972  </td><td style=\"text-align: right;\"> 26.3991</td><td style=\"text-align: right;\">   98</td><td style=\"text-align: right;\">   31</td><td style=\"text-align: right;\">   23</td><td style=\"text-align: right;\">-69.807 </td><td style=\"text-align: right;\"> -6.57768 </td><td style=\"text-align: right;\">-16.1716 </td><td style=\"text-align: right;\">-28.9209</td><td style=\"text-align: right;\"> 83.1149 </td><td style=\"text-align: right;\">    3</td><td style=\"text-align: right;\"> 66.589  </td><td style=\"text-align: right;\">-25.1312  </td><td style=\"text-align: right;\">   75</td><td style=\"text-align: right;\"> 58.059  </td><td style=\"text-align: right;\"> -1.4891</td><td style=\"text-align: right;\">-91.9537</td><td style=\"text-align: right;\"> 64.8425 </td><td style=\"text-align: right;\"> 97.5772 </td><td style=\"text-align: right;\">-15.5862 </td><td style=\"text-align: right;\">-34.6945</td><td style=\"text-align: right;\"> 17.6513 </td><td style=\"text-align: right;\"> 67.7186 </td><td style=\"text-align: right;\">  -28</td><td style=\"text-align: right;\"> 52.3945  </td><td style=\"text-align: right;\">-48.3118 </td><td style=\"text-align: right;\">-25.1681</td><td style=\"text-align: right;\">   17</td><td style=\"text-align: right;\">  -89</td><td style=\"text-align: right;\"> 95.7437</td></tr>\n",
       "<tr><td style=\"text-align: right;\">   95.7437</td><td style=\"text-align: right;\"> -1.77429</td><td style=\"text-align: right;\">  4.73747</td><td style=\"text-align: right;\">-29.4937 </td><td style=\"text-align: right;\">  -5</td><td style=\"text-align: right;\">-24.5009 </td><td style=\"text-align: right;\"> 15.0896 </td><td style=\"text-align: right;\">  22</td><td style=\"text-align: right;\"> -68</td><td style=\"text-align: right;\">-48.6214 </td><td style=\"text-align: right;\">   71</td><td style=\"text-align: right;\">-81.0229 </td><td style=\"text-align: right;\">   79</td><td style=\"text-align: right;\"> 87.7459 </td><td style=\"text-align: right;\">-83.3655 </td><td style=\"text-align: right;\">-12.8973</td><td style=\"text-align: right;\">   30</td><td style=\"text-align: right;\">-52.3515</td><td style=\"text-align: right;\">-45.1389 </td><td style=\"text-align: right;\">   -9</td><td style=\"text-align: right;\"> -1.18014</td><td style=\"text-align: right;\">-37.3663</td><td style=\"text-align: right;\">  3.84566</td><td style=\"text-align: right;\">  -54</td><td style=\"text-align: right;\">-53.0538 </td><td style=\"text-align: right;\">-46.7009 </td><td style=\"text-align: right;\">-42.1595 </td><td style=\"text-align: right;\">-30.0414</td><td style=\"text-align: right;\"> 53.832 </td><td style=\"text-align: right;\">-42.1825 </td><td style=\"text-align: right;\">-74.5234 </td><td style=\"text-align: right;\">   35</td><td style=\"text-align: right;\">-86.4942</td><td style=\"text-align: right;\"> 57.0463</td><td style=\"text-align: right;\">-63.4034 </td><td style=\"text-align: right;\">-55.7669 </td><td style=\"text-align: right;\"> 27.7981 </td><td style=\"text-align: right;\">  3.00889</td><td style=\"text-align: right;\">-91.7048</td><td style=\"text-align: right;\">-75.4427 </td><td style=\"text-align: right;\">  -64</td><td style=\"text-align: right;\"> 82.0869 </td><td style=\"text-align: right;\">-27.8453 </td><td style=\"text-align: right;\">-77.6114</td><td style=\"text-align: right;\"> 67.4127</td><td style=\"text-align: right;\"> 18.6908 </td><td style=\"text-align: right;\">-62.9398</td><td style=\"text-align: right;\">-59.7133 </td><td style=\"text-align: right;\">  -85</td><td style=\"text-align: right;\"> 89.9131 </td><td style=\"text-align: right;\">  -80</td><td style=\"text-align: right;\">   67</td><td style=\"text-align: right;\">   61</td><td style=\"text-align: right;\">-85.5882</td><td style=\"text-align: right;\">-35.3335 </td><td style=\"text-align: right;\">  -52</td><td style=\"text-align: right;\">   38</td><td style=\"text-align: right;\"> 43.1189</td><td style=\"text-align: right;\">-59.2282 </td><td style=\"text-align: right;\">   72</td><td style=\"text-align: right;\">   58</td><td style=\"text-align: right;\"> 80.5106 </td><td style=\"text-align: right;\">   12</td><td style=\"text-align: right;\"> 48.7146 </td><td style=\"text-align: right;\"> 23.5186 </td><td style=\"text-align: right;\"> 64.487  </td><td style=\"text-align: right;\">  -43</td><td style=\"text-align: right;\"> 99.2664 </td><td style=\"text-align: right;\">  2.2822   </td><td style=\"text-align: right;\">  3.96507</td><td style=\"text-align: right;\">  1.35055</td><td style=\"text-align: right;\">  0.117817</td><td style=\"text-align: right;\">-21.8003</td><td style=\"text-align: right;\">   86</td><td style=\"text-align: right;\">   63</td><td style=\"text-align: right;\">  -20</td><td style=\"text-align: right;\"> 80.5345</td><td style=\"text-align: right;\"> -4.24406 </td><td style=\"text-align: right;\">-47.3694 </td><td style=\"text-align: right;\">-49.3457</td><td style=\"text-align: right;\">-78.7091 </td><td style=\"text-align: right;\">  -25</td><td style=\"text-align: right;\">-28.8267 </td><td style=\"text-align: right;\"> -0.128148</td><td style=\"text-align: right;\">   93</td><td style=\"text-align: right;\"> -3.71066</td><td style=\"text-align: right;\">-14.4566</td><td style=\"text-align: right;\">-24.4394</td><td style=\"text-align: right;\">-23.2254 </td><td style=\"text-align: right;\">-75.7661 </td><td style=\"text-align: right;\">-24.1967 </td><td style=\"text-align: right;\">-47.3814</td><td style=\"text-align: right;\"> 43.0861 </td><td style=\"text-align: right;\"> 11.5987 </td><td style=\"text-align: right;\">   77</td><td style=\"text-align: right;\"> 42.8061  </td><td style=\"text-align: right;\"> 76.2937 </td><td style=\"text-align: right;\">-66.0331</td><td style=\"text-align: right;\">   97</td><td style=\"text-align: right;\">  -14</td><td style=\"text-align: right;\"> 78.2598</td></tr>\n",
       "</table>"
      ]
     },
     "metadata": {},
     "output_type": "display_data"
    },
    {
     "data": {
      "text/plain": []
     },
     "execution_count": 108,
     "metadata": {},
     "output_type": "execute_result"
    }
   ],
   "source": [
    "frame"
   ]
  },
  {
   "cell_type": "code",
   "execution_count": 109,
   "metadata": {
    "collapsed": false,
    "scrolled": true
   },
   "outputs": [
    {
     "name": "stdout",
     "output_type": "stream",
     "text": [
      "deepwater Model Build progress: |"
     ]
    },
    {
     "ename": "H2OConnectionError",
     "evalue": "Unexpected HTTP error: HTTPConnectionPool(host='localhost', port=54321): Max retries exceeded with url: /3/Jobs/$0301c0a80b0232d4ffffffff$_ac916bab89fe048a6feba849192a406f (Caused by NewConnectionError('<requests.packages.urllib3.connection.HTTPConnection object at 0x7f5c5d921e90>: Failed to establish a new connection: [Errno 111] Connection refused',))",
     "output_type": "error",
     "traceback": [
      "\u001b[1;31m---------------------------------------------------------------------------\u001b[0m",
      "\u001b[1;31mH2OConnectionError\u001b[0m                        Traceback (most recent call last)",
      "\u001b[1;32m<ipython-input-109-88d689f1fd06>\u001b[0m in \u001b[0;36m<module>\u001b[1;34m()\u001b[0m\n\u001b[0;32m      1\u001b[0m \u001b[0mmodel\u001b[0m \u001b[1;33m=\u001b[0m \u001b[0mH2ODeepWaterEstimator\u001b[0m\u001b[1;33m(\u001b[0m\u001b[0mnetwork_definition_file\u001b[0m\u001b[1;33m=\u001b[0m\u001b[1;34m\"/tmp/lstm.json\"\u001b[0m\u001b[1;33m)\u001b[0m\u001b[1;33m\u001b[0m\u001b[0m\n\u001b[1;32m----> 2\u001b[1;33m \u001b[0mmodel\u001b[0m\u001b[1;33m.\u001b[0m\u001b[0mtrain\u001b[0m\u001b[1;33m(\u001b[0m\u001b[0mx\u001b[0m\u001b[1;33m=\u001b[0m\u001b[0mlist\u001b[0m\u001b[1;33m(\u001b[0m\u001b[0mrange\u001b[0m\u001b[1;33m(\u001b[0m\u001b[1;36m1\u001b[0m\u001b[1;33m,\u001b[0m\u001b[1;36m101\u001b[0m\u001b[1;33m)\u001b[0m\u001b[1;33m)\u001b[0m\u001b[1;33m,\u001b[0m \u001b[0my\u001b[0m\u001b[1;33m=\u001b[0m\u001b[1;34m\"response\"\u001b[0m\u001b[1;33m,\u001b[0m \u001b[0mtraining_frame\u001b[0m\u001b[1;33m=\u001b[0m\u001b[0mframe\u001b[0m\u001b[1;33m)\u001b[0m\u001b[1;33m\u001b[0m\u001b[0m\n\u001b[0m\u001b[0;32m      3\u001b[0m \u001b[0mmodel\u001b[0m\u001b[1;33m.\u001b[0m\u001b[0mshow\u001b[0m\u001b[1;33m(\u001b[0m\u001b[1;33m)\u001b[0m\u001b[1;33m\u001b[0m\u001b[0m\n",
      "\u001b[1;32m/usr/local/lib/python2.7/dist-packages/h2o/estimators/estimator_base.pyc\u001b[0m in \u001b[0;36mtrain\u001b[1;34m(self, x, y, training_frame, offset_column, fold_column, weights_column, validation_frame, max_runtime_secs, ignored_columns, **ignored)\u001b[0m\n\u001b[0;32m    194\u001b[0m         \u001b[0mparms\u001b[0m\u001b[1;33m[\u001b[0m\u001b[1;34m\"weights_column\"\u001b[0m\u001b[1;33m]\u001b[0m \u001b[1;33m=\u001b[0m \u001b[0mweights_column\u001b[0m\u001b[1;33m\u001b[0m\u001b[0m\n\u001b[0;32m    195\u001b[0m         \u001b[0mparms\u001b[0m\u001b[1;33m[\u001b[0m\u001b[1;34m\"max_runtime_secs\"\u001b[0m\u001b[1;33m]\u001b[0m \u001b[1;33m=\u001b[0m \u001b[0mmax_runtime_secs\u001b[0m\u001b[1;33m\u001b[0m\u001b[0m\n\u001b[1;32m--> 196\u001b[1;33m \u001b[1;33m\u001b[0m\u001b[0m\n\u001b[0m\u001b[0;32m    197\u001b[0m         \u001b[1;31m# Step 2\u001b[0m\u001b[1;33m\u001b[0m\u001b[1;33m\u001b[0m\u001b[0m\n\u001b[0;32m    198\u001b[0m         \u001b[0mis_auto_encoder\u001b[0m \u001b[1;33m=\u001b[0m \u001b[1;34m\"autoencoder\"\u001b[0m \u001b[1;32min\u001b[0m \u001b[0mparms\u001b[0m \u001b[1;32mand\u001b[0m \u001b[0mparms\u001b[0m\u001b[1;33m[\u001b[0m\u001b[1;34m\"autoencoder\"\u001b[0m\u001b[1;33m]\u001b[0m\u001b[1;33m\u001b[0m\u001b[0m\n",
      "\u001b[1;32m/usr/local/lib/python2.7/dist-packages/h2o/estimators/estimator_base.pyc\u001b[0m in \u001b[0;36m_build_model\u001b[1;34m(self, algo_params)\u001b[0m\n\u001b[0;32m    207\u001b[0m         \u001b[1;32mif\u001b[0m \u001b[0my\u001b[0m \u001b[1;32mis\u001b[0m \u001b[1;32mnot\u001b[0m \u001b[0mNone\u001b[0m\u001b[1;33m:\u001b[0m \u001b[0mparms\u001b[0m\u001b[1;33m[\u001b[0m\u001b[1;34m\"response_column\"\u001b[0m\u001b[1;33m]\u001b[0m \u001b[1;33m=\u001b[0m \u001b[0my\u001b[0m\u001b[1;33m\u001b[0m\u001b[0m\n\u001b[0;32m    208\u001b[0m         \u001b[1;32mif\u001b[0m \u001b[1;32mnot\u001b[0m \u001b[0misinstance\u001b[0m\u001b[1;33m(\u001b[0m\u001b[0mx\u001b[0m\u001b[1;33m,\u001b[0m \u001b[1;33m(\u001b[0m\u001b[0mlist\u001b[0m\u001b[1;33m,\u001b[0m \u001b[0mtuple\u001b[0m\u001b[1;33m)\u001b[0m\u001b[1;33m)\u001b[0m\u001b[1;33m:\u001b[0m \u001b[0mx\u001b[0m \u001b[1;33m=\u001b[0m \u001b[1;33m[\u001b[0m\u001b[0mx\u001b[0m\u001b[1;33m]\u001b[0m\u001b[1;33m\u001b[0m\u001b[0m\n\u001b[1;32m--> 209\u001b[1;33m         \u001b[1;32mif\u001b[0m \u001b[0mis_type\u001b[0m\u001b[1;33m(\u001b[0m\u001b[0mx\u001b[0m\u001b[1;33m[\u001b[0m\u001b[1;36m0\u001b[0m\u001b[1;33m]\u001b[0m\u001b[1;33m,\u001b[0m \u001b[0mint\u001b[0m\u001b[1;33m)\u001b[0m\u001b[1;33m:\u001b[0m\u001b[1;33m\u001b[0m\u001b[0m\n\u001b[0m\u001b[0;32m    210\u001b[0m             \u001b[0mx\u001b[0m \u001b[1;33m=\u001b[0m \u001b[1;33m[\u001b[0m\u001b[0mtraining_frame\u001b[0m\u001b[1;33m.\u001b[0m\u001b[0mnames\u001b[0m\u001b[1;33m[\u001b[0m\u001b[0mi\u001b[0m\u001b[1;33m]\u001b[0m \u001b[1;32mfor\u001b[0m \u001b[0mi\u001b[0m \u001b[1;32min\u001b[0m \u001b[0mx\u001b[0m\u001b[1;33m]\u001b[0m\u001b[1;33m\u001b[0m\u001b[0m\n\u001b[0;32m    211\u001b[0m         \u001b[0moffset\u001b[0m \u001b[1;33m=\u001b[0m \u001b[0mparms\u001b[0m\u001b[1;33m[\u001b[0m\u001b[1;34m\"offset_column\"\u001b[0m\u001b[1;33m]\u001b[0m\u001b[1;33m\u001b[0m\u001b[0m\n",
      "\u001b[1;32m/usr/local/lib/python2.7/dist-packages/h2o/estimators/estimator_base.pyc\u001b[0m in \u001b[0;36m_model_build\u001b[1;34m(self, x, y, tframe, vframe, kwargs)\u001b[0m\n\u001b[0;32m    234\u001b[0m     \u001b[1;32mdef\u001b[0m \u001b[0m_keyify_if_h2oframe\u001b[0m\u001b[1;33m(\u001b[0m\u001b[0mitem\u001b[0m\u001b[1;33m)\u001b[0m\u001b[1;33m:\u001b[0m\u001b[1;33m\u001b[0m\u001b[0m\n\u001b[0;32m    235\u001b[0m         \u001b[1;32mif\u001b[0m \u001b[0misinstance\u001b[0m\u001b[1;33m(\u001b[0m\u001b[0mitem\u001b[0m\u001b[1;33m,\u001b[0m \u001b[0mH2OFrame\u001b[0m\u001b[1;33m)\u001b[0m\u001b[1;33m:\u001b[0m\u001b[1;33m\u001b[0m\u001b[0m\n\u001b[1;32m--> 236\u001b[1;33m             \u001b[1;32mreturn\u001b[0m \u001b[0mitem\u001b[0m\u001b[1;33m.\u001b[0m\u001b[0mframe_id\u001b[0m\u001b[1;33m\u001b[0m\u001b[0m\n\u001b[0m\u001b[0;32m    237\u001b[0m         \u001b[1;32melif\u001b[0m \u001b[0misinstance\u001b[0m\u001b[1;33m(\u001b[0m\u001b[0mitem\u001b[0m\u001b[1;33m,\u001b[0m \u001b[0mlist\u001b[0m\u001b[1;33m)\u001b[0m \u001b[1;32mand\u001b[0m \u001b[0mall\u001b[0m\u001b[1;33m(\u001b[0m\u001b[0mi\u001b[0m \u001b[1;32mis\u001b[0m \u001b[0mNone\u001b[0m \u001b[1;32mor\u001b[0m \u001b[0misinstance\u001b[0m\u001b[1;33m(\u001b[0m\u001b[0mi\u001b[0m\u001b[1;33m,\u001b[0m \u001b[0mH2OFrame\u001b[0m\u001b[1;33m)\u001b[0m \u001b[1;32mfor\u001b[0m \u001b[0mi\u001b[0m \u001b[1;32min\u001b[0m \u001b[0mitem\u001b[0m\u001b[1;33m)\u001b[0m\u001b[1;33m:\u001b[0m\u001b[1;33m\u001b[0m\u001b[0m\n\u001b[0;32m    238\u001b[0m             \u001b[1;32mreturn\u001b[0m \u001b[1;33m[\u001b[0m\u001b[0mquoted\u001b[0m\u001b[1;33m(\u001b[0m\u001b[0mi\u001b[0m\u001b[1;33m)\u001b[0m \u001b[1;32mif\u001b[0m \u001b[0mi\u001b[0m \u001b[1;32mis\u001b[0m \u001b[0mNone\u001b[0m \u001b[1;32melse\u001b[0m \u001b[0mquoted\u001b[0m\u001b[1;33m(\u001b[0m\u001b[0mi\u001b[0m\u001b[1;33m.\u001b[0m\u001b[0mframe_id\u001b[0m\u001b[1;33m)\u001b[0m \u001b[1;32mfor\u001b[0m \u001b[0mi\u001b[0m \u001b[1;32min\u001b[0m \u001b[0mitem\u001b[0m\u001b[1;33m]\u001b[0m\u001b[1;33m\u001b[0m\u001b[0m\n",
      "\u001b[1;32m/usr/local/lib/python2.7/dist-packages/h2o/job.pyc\u001b[0m in \u001b[0;36mpoll\u001b[1;34m(self)\u001b[0m\n\u001b[0;32m     55\u001b[0m             \u001b[0mhidden\u001b[0m \u001b[1;33m=\u001b[0m \u001b[1;32mnot\u001b[0m \u001b[0mH2OJob\u001b[0m\u001b[1;33m.\u001b[0m\u001b[0m__PROGRESS_BAR__\u001b[0m\u001b[1;33m\u001b[0m\u001b[0m\n\u001b[0;32m     56\u001b[0m             \u001b[0mpb\u001b[0m \u001b[1;33m=\u001b[0m \u001b[0mProgressBar\u001b[0m\u001b[1;33m(\u001b[0m\u001b[0mtitle\u001b[0m\u001b[1;33m=\u001b[0m\u001b[0mself\u001b[0m\u001b[1;33m.\u001b[0m\u001b[0m_job_type\u001b[0m \u001b[1;33m+\u001b[0m \u001b[1;34m\" progress\"\u001b[0m\u001b[1;33m,\u001b[0m \u001b[0mhidden\u001b[0m\u001b[1;33m=\u001b[0m\u001b[0mhidden\u001b[0m\u001b[1;33m)\u001b[0m\u001b[1;33m\u001b[0m\u001b[0m\n\u001b[1;32m---> 57\u001b[1;33m             \u001b[0mpb\u001b[0m\u001b[1;33m.\u001b[0m\u001b[0mexecute\u001b[0m\u001b[1;33m(\u001b[0m\u001b[0mself\u001b[0m\u001b[1;33m.\u001b[0m\u001b[0m_refresh_job_status\u001b[0m\u001b[1;33m)\u001b[0m\u001b[1;33m\u001b[0m\u001b[0m\n\u001b[0m\u001b[0;32m     58\u001b[0m         \u001b[1;32mexcept\u001b[0m \u001b[0mStopIteration\u001b[0m \u001b[1;32mas\u001b[0m \u001b[0me\u001b[0m\u001b[1;33m:\u001b[0m\u001b[1;33m\u001b[0m\u001b[0m\n\u001b[0;32m     59\u001b[0m             \u001b[1;32mif\u001b[0m \u001b[0mstr\u001b[0m\u001b[1;33m(\u001b[0m\u001b[0me\u001b[0m\u001b[1;33m)\u001b[0m \u001b[1;33m==\u001b[0m \u001b[1;34m\"cancelled\"\u001b[0m\u001b[1;33m:\u001b[0m\u001b[1;33m\u001b[0m\u001b[0m\n",
      "\u001b[1;32m/usr/local/lib/python2.7/dist-packages/h2o/utils/progressbar.pyc\u001b[0m in \u001b[0;36mexecute\u001b[1;34m(self, progress_fn)\u001b[0m\n\u001b[0;32m    158\u001b[0m                 \u001b[1;31m# Query the progress level, but only if it's time already\u001b[0m\u001b[1;33m\u001b[0m\u001b[1;33m\u001b[0m\u001b[0m\n\u001b[0;32m    159\u001b[0m                 \u001b[1;32mif\u001b[0m \u001b[0mself\u001b[0m\u001b[1;33m.\u001b[0m\u001b[0m_next_poll_time\u001b[0m \u001b[1;33m<=\u001b[0m \u001b[0mnow\u001b[0m\u001b[1;33m:\u001b[0m\u001b[1;33m\u001b[0m\u001b[0m\n\u001b[1;32m--> 160\u001b[1;33m                     \u001b[0mres\u001b[0m \u001b[1;33m=\u001b[0m \u001b[0mprogress_fn\u001b[0m\u001b[1;33m(\u001b[0m\u001b[1;33m)\u001b[0m  \u001b[1;31m# may raise StopIteration\u001b[0m\u001b[1;33m\u001b[0m\u001b[0m\n\u001b[0m\u001b[0;32m    161\u001b[0m                     \u001b[0massert_is_type\u001b[0m\u001b[1;33m(\u001b[0m\u001b[0mres\u001b[0m\u001b[1;33m,\u001b[0m \u001b[1;33m(\u001b[0m\u001b[0mnumeric\u001b[0m\u001b[1;33m,\u001b[0m \u001b[0mnumeric\u001b[0m\u001b[1;33m)\u001b[0m\u001b[1;33m,\u001b[0m \u001b[0mnumeric\u001b[0m\u001b[1;33m)\u001b[0m\u001b[1;33m\u001b[0m\u001b[0m\n\u001b[0;32m    162\u001b[0m                     \u001b[1;32mif\u001b[0m \u001b[1;32mnot\u001b[0m \u001b[0misinstance\u001b[0m\u001b[1;33m(\u001b[0m\u001b[0mres\u001b[0m\u001b[1;33m,\u001b[0m \u001b[0mtuple\u001b[0m\u001b[1;33m)\u001b[0m\u001b[1;33m:\u001b[0m\u001b[1;33m\u001b[0m\u001b[0m\n",
      "\u001b[1;32m/usr/local/lib/python2.7/dist-packages/h2o/job.pyc\u001b[0m in \u001b[0;36m_refresh_job_status\u001b[1;34m(self)\u001b[0m\n\u001b[0;32m     90\u001b[0m     \u001b[1;32mdef\u001b[0m \u001b[0m_refresh_job_status\u001b[0m\u001b[1;33m(\u001b[0m\u001b[0mself\u001b[0m\u001b[1;33m)\u001b[0m\u001b[1;33m:\u001b[0m\u001b[1;33m\u001b[0m\u001b[0m\n\u001b[0;32m     91\u001b[0m         \u001b[1;32mif\u001b[0m \u001b[0mself\u001b[0m\u001b[1;33m.\u001b[0m\u001b[0m_poll_count\u001b[0m \u001b[1;33m<=\u001b[0m \u001b[1;36m0\u001b[0m\u001b[1;33m:\u001b[0m \u001b[1;32mraise\u001b[0m \u001b[0mStopIteration\u001b[0m\u001b[1;33m(\u001b[0m\u001b[1;34m\"\"\u001b[0m\u001b[1;33m)\u001b[0m\u001b[1;33m\u001b[0m\u001b[0m\n\u001b[1;32m---> 92\u001b[1;33m         \u001b[0mjobs\u001b[0m \u001b[1;33m=\u001b[0m \u001b[0mh2o\u001b[0m\u001b[1;33m.\u001b[0m\u001b[0mapi\u001b[0m\u001b[1;33m(\u001b[0m\u001b[1;34m\"GET /3/Jobs/%s\"\u001b[0m \u001b[1;33m%\u001b[0m \u001b[0mself\u001b[0m\u001b[1;33m.\u001b[0m\u001b[0mjob_key\u001b[0m\u001b[1;33m)\u001b[0m\u001b[1;33m\u001b[0m\u001b[0m\n\u001b[0m\u001b[0;32m     93\u001b[0m         \u001b[0mself\u001b[0m\u001b[1;33m.\u001b[0m\u001b[0mjob\u001b[0m \u001b[1;33m=\u001b[0m \u001b[0mjobs\u001b[0m\u001b[1;33m[\u001b[0m\u001b[1;34m\"jobs\"\u001b[0m\u001b[1;33m]\u001b[0m\u001b[1;33m[\u001b[0m\u001b[1;36m0\u001b[0m\u001b[1;33m]\u001b[0m \u001b[1;32mif\u001b[0m \u001b[1;34m\"jobs\"\u001b[0m \u001b[1;32min\u001b[0m \u001b[0mjobs\u001b[0m \u001b[1;32melse\u001b[0m \u001b[0mjobs\u001b[0m\u001b[1;33m[\u001b[0m\u001b[1;34m\"job\"\u001b[0m\u001b[1;33m]\u001b[0m\u001b[1;33m[\u001b[0m\u001b[1;36m0\u001b[0m\u001b[1;33m]\u001b[0m\u001b[1;33m\u001b[0m\u001b[0m\n\u001b[0;32m     94\u001b[0m         \u001b[0mself\u001b[0m\u001b[1;33m.\u001b[0m\u001b[0mstatus\u001b[0m \u001b[1;33m=\u001b[0m \u001b[0mself\u001b[0m\u001b[1;33m.\u001b[0m\u001b[0mjob\u001b[0m\u001b[1;33m[\u001b[0m\u001b[1;34m\"status\"\u001b[0m\u001b[1;33m]\u001b[0m\u001b[1;33m\u001b[0m\u001b[0m\n",
      "\u001b[1;32m/usr/local/lib/python2.7/dist-packages/h2o/h2o.pyc\u001b[0m in \u001b[0;36mapi\u001b[1;34m(endpoint, data, json, filename, save_to)\u001b[0m\n\u001b[0;32m     82\u001b[0m     \u001b[1;31m# type checks are performed in H2OConnection class\u001b[0m\u001b[1;33m\u001b[0m\u001b[1;33m\u001b[0m\u001b[0m\n\u001b[0;32m     83\u001b[0m     \u001b[0m_check_connection\u001b[0m\u001b[1;33m(\u001b[0m\u001b[1;33m)\u001b[0m\u001b[1;33m\u001b[0m\u001b[0m\n\u001b[1;32m---> 84\u001b[1;33m     \u001b[1;32mreturn\u001b[0m \u001b[0mh2oconn\u001b[0m\u001b[1;33m.\u001b[0m\u001b[0mrequest\u001b[0m\u001b[1;33m(\u001b[0m\u001b[0mendpoint\u001b[0m\u001b[1;33m,\u001b[0m \u001b[0mdata\u001b[0m\u001b[1;33m=\u001b[0m\u001b[0mdata\u001b[0m\u001b[1;33m,\u001b[0m \u001b[0mjson\u001b[0m\u001b[1;33m=\u001b[0m\u001b[0mjson\u001b[0m\u001b[1;33m,\u001b[0m \u001b[0mfilename\u001b[0m\u001b[1;33m=\u001b[0m\u001b[0mfilename\u001b[0m\u001b[1;33m,\u001b[0m \u001b[0msave_to\u001b[0m\u001b[1;33m=\u001b[0m\u001b[0msave_to\u001b[0m\u001b[1;33m)\u001b[0m\u001b[1;33m\u001b[0m\u001b[0m\n\u001b[0m\u001b[0;32m     85\u001b[0m \u001b[1;33m\u001b[0m\u001b[0m\n\u001b[0;32m     86\u001b[0m \u001b[1;33m\u001b[0m\u001b[0m\n",
      "\u001b[1;32m/usr/local/lib/python2.7/dist-packages/h2o/backend/connection.pyc\u001b[0m in \u001b[0;36mrequest\u001b[1;34m(self, endpoint, data, json, filename, save_to)\u001b[0m\n\u001b[0;32m    265\u001b[0m         \u001b[1;32mexcept\u001b[0m \u001b[1;33m(\u001b[0m\u001b[0mrequests\u001b[0m\u001b[1;33m.\u001b[0m\u001b[0mexceptions\u001b[0m\u001b[1;33m.\u001b[0m\u001b[0mConnectionError\u001b[0m\u001b[1;33m,\u001b[0m \u001b[0mrequests\u001b[0m\u001b[1;33m.\u001b[0m\u001b[0mexceptions\u001b[0m\u001b[1;33m.\u001b[0m\u001b[0mHTTPError\u001b[0m\u001b[1;33m)\u001b[0m \u001b[1;32mas\u001b[0m \u001b[0me\u001b[0m\u001b[1;33m:\u001b[0m\u001b[1;33m\u001b[0m\u001b[0m\n\u001b[0;32m    266\u001b[0m             \u001b[1;32mif\u001b[0m \u001b[0mself\u001b[0m\u001b[1;33m.\u001b[0m\u001b[0m_local_server\u001b[0m \u001b[1;32mand\u001b[0m \u001b[1;32mnot\u001b[0m \u001b[0mself\u001b[0m\u001b[1;33m.\u001b[0m\u001b[0m_local_server\u001b[0m\u001b[1;33m.\u001b[0m\u001b[0mis_running\u001b[0m\u001b[1;33m(\u001b[0m\u001b[1;33m)\u001b[0m\u001b[1;33m:\u001b[0m\u001b[1;33m\u001b[0m\u001b[0m\n\u001b[1;32m--> 267\u001b[1;33m                 \u001b[0mself\u001b[0m\u001b[1;33m.\u001b[0m\u001b[0m_log_end_exception\u001b[0m\u001b[1;33m(\u001b[0m\u001b[1;34m\"Local server has died.\"\u001b[0m\u001b[1;33m)\u001b[0m\u001b[1;33m\u001b[0m\u001b[0m\n\u001b[0m\u001b[0;32m    268\u001b[0m                 \u001b[1;32mraise\u001b[0m \u001b[0mH2OConnectionError\u001b[0m\u001b[1;33m(\u001b[0m\u001b[1;34m\"Local server has died unexpectedly. RIP.\"\u001b[0m\u001b[1;33m)\u001b[0m\u001b[1;33m\u001b[0m\u001b[0m\n\u001b[0;32m    269\u001b[0m             \u001b[1;32melse\u001b[0m\u001b[1;33m:\u001b[0m\u001b[1;33m\u001b[0m\u001b[0m\n",
      "\u001b[1;31mH2OConnectionError\u001b[0m: Unexpected HTTP error: HTTPConnectionPool(host='localhost', port=54321): Max retries exceeded with url: /3/Jobs/$0301c0a80b0232d4ffffffff$_ac916bab89fe048a6feba849192a406f (Caused by NewConnectionError('<requests.packages.urllib3.connection.HTTPConnection object at 0x7f5c5d921e90>: Failed to establish a new connection: [Errno 111] Connection refused',))"
     ]
    }
   ],
   "source": [
    "model = H2ODeepWaterEstimator(network_definition_file=\"/tmp/lstm.json\")\n",
    "model.train(x=list(range(1,101)), y=\"response\", training_frame=frame)\n",
    "model.show()"
   ]
  }
 ],
 "metadata": {
  "kernelspec": {
   "display_name": "Python 2",
   "language": "python",
   "name": "python2"
  },
  "language_info": {
   "codemirror_mode": {
    "name": "ipython",
    "version": 2
   },
   "file_extension": ".py",
   "mimetype": "text/x-python",
   "name": "python",
   "nbconvert_exporter": "python",
   "pygments_lexer": "ipython2",
   "version": "2.7.12"
  }
 },
 "nbformat": 4,
 "nbformat_minor": 0
}
